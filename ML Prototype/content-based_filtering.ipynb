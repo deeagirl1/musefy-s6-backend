{
 "cells": [
  {
   "cell_type": "code",
   "execution_count": 25,
   "metadata": {},
   "outputs": [],
   "source": [
    "import pandas as pd\n",
    "import numpy as np\n",
    "import time \n",
    "\n",
    "from sklearn.metrics.pairwise import cosine_similarity\n",
    "from sklearn.model_selection import train_test_split\n",
    "\n",
    "import warnings\n",
    "warnings.filterwarnings(\"ignore\")"
   ]
  },
  {
   "cell_type": "code",
   "execution_count": 26,
   "metadata": {},
   "outputs": [
    {
     "data": {
      "text/html": [
       "<style>.container { width:90% !important; }</style>"
      ],
      "text/plain": [
       "<IPython.core.display.HTML object>"
      ]
     },
     "metadata": {},
     "output_type": "display_data"
    }
   ],
   "source": [
    "#Makes using jupyter notebook on laptops much easier\n",
    "from IPython.core.display import display, HTML\n",
    "display(HTML(\"<style>.container { width:90% !important; }</style>\"))"
   ]
  },
  {
   "cell_type": "code",
   "execution_count": 27,
   "metadata": {},
   "outputs": [],
   "source": [
    "# Create sample user data\n",
    "users = pd.DataFrame({\n",
    "    'user_id': [1, 2, 3],\n",
    "    'country': ['USA', 'UK', 'USA']\n",
    "})"
   ]
  },
  {
   "cell_type": "code",
   "execution_count": 28,
   "metadata": {},
   "outputs": [],
   "source": [
    "# Create sample song data\n",
    "songs = pd.DataFrame({\n",
    "    'song_id': [1, 2, 3, 4, 5],\n",
    "    'title': ['Song A', 'Song B', 'Song C', 'Song D', 'Song E'],\n",
    "    'genre': ['Pop', 'Rock', 'Pop', 'Rock', 'Electronic'],\n",
    "    'artist': ['Artist A', 'Artist B', 'Artist C', 'Artist D', 'Artist E'],\n",
    "    'duration': [3.5, 4.2, 3.8, 4.1, 5.2],\n",
    "    'tempo': [120, 130, 125, 135, 140],\n",
    "    'key': ['C', 'G', 'C', 'D', 'F']\n",
    "})"
   ]
  },
  {
   "cell_type": "code",
   "execution_count": 29,
   "metadata": {},
   "outputs": [],
   "source": [
    "# Create sample interaction data\n",
    "interactions = pd.DataFrame({\n",
    "    'user_id': [1, 1, 1, 2, 2, 3, 3],\n",
    "    'song_id': [1, 2, 3, 1, 4, 2, 5],\n",
    "    'listen_count': [5, 2, 3, 1, 4, 5, 2]\n",
    "})"
   ]
  },
  {
   "cell_type": "code",
   "execution_count": 30,
   "metadata": {},
   "outputs": [],
   "source": [
    "# Loop through different random seeds\n",
    "random_state = int(time.time())\n",
    "\n",
    "# Split data into training and test sets with a different random seed each time\n",
    "train, test = train_test_split(interactions, test_size=0.2, random_state=random_state)\n",
    "    \n",
    "# Calculate song similarity matrix based on features\n",
    "song_features = pd.concat([\n",
    "        songs[['duration', 'tempo']],\n",
    "        pd.get_dummies(songs['genre'], prefix='genre'),\n",
    "        pd.get_dummies(songs['key'], prefix='key')\n",
    "    ], axis=1)\n",
    "song_similarity_matrix = cosine_similarity(song_features)"
   ]
  },
  {
   "cell_type": "code",
   "execution_count": 31,
   "metadata": {},
   "outputs": [],
   "source": [
    "# Define function to recommend songs to a user\n",
    "def recommend_songs(user_id, n=5):\n",
    "    user_interactions = test[test['user_id'] == user_id]\n",
    "    known_song_ids = user_interactions['song_id'].values\n",
    "    known_song_idx = np.searchsorted(songs['song_id'].values, known_song_ids)\n",
    "    scores = np.sum(song_similarity_matrix[known_song_idx], axis=0)\n",
    "    top_song_idxs = np.argsort(-scores)[:n]\n",
    "    recommended_songs = songs.loc[top_song_idxs]['title'].values\n",
    "    return recommended_songs\n"
   ]
  },
  {
   "cell_type": "code",
   "execution_count": 32,
   "metadata": {},
   "outputs": [
    {
     "name": "stdout",
     "output_type": "stream",
     "text": [
      "Recommended songs for user 1\n",
      "['Song A' 'Song C' 'Song D' 'Song B' 'Song E']\n",
      "Recommended songs for user 2\n",
      "['Song A' 'Song B' 'Song C' 'Song D' 'Song E']\n",
      "Recommended songs for user 3\n",
      "['Song E' 'Song B' 'Song D' 'Song C' 'Song A']\n"
     ]
    }
   ],
   "source": [
    "# Loop through the user IDs and print the recommended songs for each user\n",
    "for user_id in users['user_id']:\n",
    "    print(f\"Recommended songs for user {user_id}\")\n",
    "    print(recommend_songs(user_id))"
   ]
  }
 ],
 "metadata": {
  "kernelspec": {
   "display_name": "Python 3",
   "language": "python",
   "name": "python3"
  },
  "language_info": {
   "codemirror_mode": {
    "name": "ipython",
    "version": 3
   },
   "file_extension": ".py",
   "mimetype": "text/x-python",
   "name": "python",
   "nbconvert_exporter": "python",
   "pygments_lexer": "ipython3",
   "version": "3.11.3"
  },
  "orig_nbformat": 4
 },
 "nbformat": 4,
 "nbformat_minor": 2
}
